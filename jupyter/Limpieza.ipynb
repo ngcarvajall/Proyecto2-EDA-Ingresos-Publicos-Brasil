{
 "cells": [
  {
   "cell_type": "code",
   "execution_count": 1,
   "metadata": {},
   "outputs": [],
   "source": [
    "import pandas as pd\n",
    "import numpy as np\n",
    "import matplotlib.pyplot as plt\n",
    "import seaborn as sns"
   ]
  },
  {
   "cell_type": "code",
   "execution_count": 2,
   "metadata": {},
   "outputs": [],
   "source": [
    "### para llmar funciones\n",
    "import sys\n",
    "sys.path.append('../')\n",
    "from src import soporte_limpieza as sl"
   ]
  },
  {
   "cell_type": "code",
   "execution_count": 3,
   "metadata": {},
   "outputs": [],
   "source": [
    "pd.set_option('display.max_columns', None)"
   ]
  },
  {
   "cell_type": "code",
   "execution_count": 4,
   "metadata": {},
   "outputs": [],
   "source": [
    "### esto para llama funciones\n",
    "### df['nombrecolumnanueva'] = df['col'].apply(sl.sumar)\n"
   ]
  },
  {
   "cell_type": "code",
   "execution_count": 5,
   "metadata": {},
   "outputs": [
    {
     "name": "stderr",
     "output_type": "stream",
     "text": [
      "C:\\Users\\DELL\\AppData\\Local\\Temp\\ipykernel_22732\\1337882092.py:3: UserWarning: Parsing dates in %d/%m/%Y format when dayfirst=False (the default) was specified. Pass `dayfirst=True` or specify a format to silence this warning.\n",
      "  df_2013 = pd.read_csv(\"../datos/datos-2013.csv\", delimiter=\";\", parse_dates=['DATA LANÇAMENTO'])\n",
      "C:\\Users\\DELL\\AppData\\Local\\Temp\\ipykernel_22732\\1337882092.py:4: UserWarning: Parsing dates in %d/%m/%Y format when dayfirst=False (the default) was specified. Pass `dayfirst=True` or specify a format to silence this warning.\n",
      "  df_2014 = pd.read_csv(\"../datos/datos-2014.csv\", delimiter=\";\", parse_dates=['DATA LANÇAMENTO'])\n",
      "C:\\Users\\DELL\\AppData\\Local\\Temp\\ipykernel_22732\\1337882092.py:5: UserWarning: Parsing dates in %d/%m/%Y format when dayfirst=False (the default) was specified. Pass `dayfirst=True` or specify a format to silence this warning.\n",
      "  df_2015 = pd.read_csv(\"../datos/datos-2015.csv\", delimiter=\";\", parse_dates=['DATA LANÇAMENTO'])\n",
      "C:\\Users\\DELL\\AppData\\Local\\Temp\\ipykernel_22732\\1337882092.py:7: UserWarning: Parsing dates in %d/%m/%Y format when dayfirst=False (the default) was specified. Pass `dayfirst=True` or specify a format to silence this warning.\n",
      "  df_2017 = pd.read_csv(\"../datos/datos-2017.csv\", delimiter=\";\", parse_dates=['DATA LANÇAMENTO'])\n",
      "C:\\Users\\DELL\\AppData\\Local\\Temp\\ipykernel_22732\\1337882092.py:8: UserWarning: Parsing dates in %d/%m/%Y format when dayfirst=False (the default) was specified. Pass `dayfirst=True` or specify a format to silence this warning.\n",
      "  df_2018 = pd.read_csv(\"../datos/datos-2018.csv\", delimiter=\";\", parse_dates=['DATA LANÇAMENTO'])\n",
      "C:\\Users\\DELL\\AppData\\Local\\Temp\\ipykernel_22732\\1337882092.py:10: UserWarning: Parsing dates in %d/%m/%Y format when dayfirst=False (the default) was specified. Pass `dayfirst=True` or specify a format to silence this warning.\n",
      "  df_2020 = pd.read_csv(\"../datos/datos-2020.csv\", delimiter=\";\", parse_dates=['DATA LANÇAMENTO'])\n",
      "C:\\Users\\DELL\\AppData\\Local\\Temp\\ipykernel_22732\\1337882092.py:11: UserWarning: Parsing dates in %d/%m/%Y format when dayfirst=False (the default) was specified. Pass `dayfirst=True` or specify a format to silence this warning.\n",
      "  df_2021 = pd.read_csv(\"../datos/datos-2021.csv\", delimiter=\";\", parse_dates=['DATA LANÇAMENTO'])\n"
     ]
    }
   ],
   "source": [
    "### Importación de los archivos\n",
    "\n",
    "df_2013 = pd.read_csv(\"../datos/datos-2013.csv\", delimiter=\";\", parse_dates=['DATA LANÇAMENTO'])\n",
    "df_2014 = pd.read_csv(\"../datos/datos-2014.csv\", delimiter=\";\", parse_dates=['DATA LANÇAMENTO'])\n",
    "df_2015 = pd.read_csv(\"../datos/datos-2015.csv\", delimiter=\";\", parse_dates=['DATA LANÇAMENTO'])\n",
    "df_2016 = pd.read_csv(\"../datos/datos-2016.csv\", delimiter=\";\", parse_dates=['DATA LANÇAMENTO']) \n",
    "df_2017 = pd.read_csv(\"../datos/datos-2017.csv\", delimiter=\";\", parse_dates=['DATA LANÇAMENTO']) \n",
    "df_2018 = pd.read_csv(\"../datos/datos-2018.csv\", delimiter=\";\", parse_dates=['DATA LANÇAMENTO']) \n",
    "df_2019 = pd.read_csv(\"../datos/datos-2019.csv\", delimiter=\";\", parse_dates=['DATA LANÇAMENTO']) \n",
    "df_2020 = pd.read_csv(\"../datos/datos-2020.csv\", delimiter=\";\", parse_dates=['DATA LANÇAMENTO']) \n",
    "df_2021 = pd.read_csv(\"../datos/datos-2021.csv\", delimiter=\";\", parse_dates=['DATA LANÇAMENTO']) "
   ]
  },
  {
   "cell_type": "code",
   "execution_count": 6,
   "metadata": {},
   "outputs": [
    {
     "data": {
      "text/plain": [
       "0        2016-04-04\n",
       "1        2016-12-08\n",
       "2        2016-08-22\n",
       "3        2016-03-21\n",
       "4        2016-11-04\n",
       "            ...    \n",
       "194528   2016-01-11\n",
       "194529   2016-01-21\n",
       "194530   2016-01-20\n",
       "194531   2016-02-26\n",
       "194532   2016-01-13\n",
       "Name: DATA LANÇAMENTO, Length: 194533, dtype: datetime64[ns]"
      ]
     },
     "execution_count": 6,
     "metadata": {},
     "output_type": "execute_result"
    }
   ],
   "source": [
    "df_2019[\"DATA LANÇAMENTO\"] = pd.to_datetime(df_2019[\"DATA LANÇAMENTO\"], format=\"%d/%m/%Y\")\n",
    "df_2019[\"DATA LANÇAMENTO\"]  #cambio a fecha\n",
    "\n",
    "df_2016[\"DATA LANÇAMENTO\"] = pd.to_datetime(df_2016[\"DATA LANÇAMENTO\"], format=\"%d/%m/%Y\")\n",
    "df_2016[\"DATA LANÇAMENTO\"]  #cambio a fecha\n",
    "\n",
    "### esto debido a que no todas tenían el mismo formato"
   ]
  },
  {
   "cell_type": "code",
   "execution_count": 7,
   "metadata": {},
   "outputs": [],
   "source": [
    "### llena los años\n",
    "\n",
    "listadf = [df_2013, df_2014, df_2015, df_2016, df_2017, df_2018, df_2019, df_2020, df_2021]\n",
    "lista_años = [2013,2014,2015,2016,2017,2018,2019,2020,2021]\n",
    "def fillyear(df,year):\n",
    "    df['ANO EXERCÍCIO'] = df['ANO EXERCÍCIO'].fillna(year)\n",
    "    return df"
   ]
  },
  {
   "cell_type": "code",
   "execution_count": 8,
   "metadata": {},
   "outputs": [],
   "source": [
    "listadf_anos =list(map(fillyear, listadf, lista_años))"
   ]
  },
  {
   "cell_type": "code",
   "execution_count": 9,
   "metadata": {},
   "outputs": [],
   "source": [
    "df_llena = pd.concat(listadf_anos).reset_index(drop=True)\n",
    "df_llena['ANO EXERCÍCIO'] = df_llena['ANO EXERCÍCIO'].astype(int)\n"
   ]
  },
  {
   "cell_type": "code",
   "execution_count": 10,
   "metadata": {},
   "outputs": [
    {
     "name": "stderr",
     "output_type": "stream",
     "text": [
      "C:\\Users\\DELL\\AppData\\Local\\Temp\\ipykernel_22732\\3588227548.py:3: FutureWarning: Series.fillna with 'method' is deprecated and will raise in a future version. Use obj.ffill() or obj.bfill() instead.\n",
      "  df_llena['NOME ÓRGÃO SUPERIOR'] = df_llena.groupby('CÓDIGO ÓRGÃO SUPERIOR')['NOME ÓRGÃO SUPERIOR'].transform(lambda x: x.fillna(method='ffill'))\n"
     ]
    },
    {
     "name": "stdout",
     "output_type": "stream",
     "text": [
      "<class 'pandas.core.series.Series'>\n",
      "RangeIndex: 1026299 entries, 0 to 1026298\n",
      "Series name: NOME ÓRGÃO SUPERIOR\n",
      "Non-Null Count   Dtype \n",
      "--------------   ----- \n",
      "995921 non-null  object\n",
      "dtypes: object(1)\n",
      "memory usage: 7.8+ MB\n"
     ]
    },
    {
     "name": "stderr",
     "output_type": "stream",
     "text": [
      "C:\\Users\\DELL\\AppData\\Local\\Temp\\ipykernel_22732\\3588227548.py:6: FutureWarning: Series.fillna with 'method' is deprecated and will raise in a future version. Use obj.ffill() or obj.bfill() instead.\n",
      "  df_llena['NOME ÓRGÃO'] = df_llena.groupby('CÓDIGO ÓRGÃO')['NOME ÓRGÃO'].transform(lambda x: x.fillna(method='ffill'))\n"
     ]
    },
    {
     "name": "stdout",
     "output_type": "stream",
     "text": [
      "<class 'pandas.core.series.Series'>\n",
      "RangeIndex: 1026299 entries, 0 to 1026298\n",
      "Series name: NOME ÓRGÃO\n",
      "Non-Null Count    Dtype \n",
      "--------------    ----- \n",
      "1001164 non-null  object\n",
      "dtypes: object(1)\n",
      "memory usage: 7.8+ MB\n"
     ]
    },
    {
     "name": "stderr",
     "output_type": "stream",
     "text": [
      "C:\\Users\\DELL\\AppData\\Local\\Temp\\ipykernel_22732\\3588227548.py:9: FutureWarning: Series.fillna with 'method' is deprecated and will raise in a future version. Use obj.ffill() or obj.bfill() instead.\n",
      "  df_llena['CÓDIGO UNIDADE GESTORA'] = df_llena.groupby('NOME UNIDADE GESTORA')['CÓDIGO UNIDADE GESTORA'].transform(lambda x: x.fillna(method='ffill'))\n"
     ]
    },
    {
     "data": {
      "text/plain": [
       "0          110060.0\n",
       "1          110060.0\n",
       "2          110060.0\n",
       "3          110060.0\n",
       "4          110060.0\n",
       "             ...   \n",
       "1026294    243001.0\n",
       "1026295    243001.0\n",
       "1026296    243001.0\n",
       "1026297    243001.0\n",
       "1026298    243001.0\n",
       "Name: CÓDIGO UNIDADE GESTORA, Length: 1026299, dtype: float64"
      ]
     },
     "execution_count": 10,
     "metadata": {},
     "output_type": "execute_result"
    }
   ],
   "source": [
    "### aquí voy rellenando los nombres en base a sus respectivos códigos\n",
    "\n",
    "df_llena['NOME ÓRGÃO SUPERIOR'] = df_llena.groupby('CÓDIGO ÓRGÃO SUPERIOR')['NOME ÓRGÃO SUPERIOR'].transform(lambda x: x.fillna(method='ffill'))\n",
    "df_llena['NOME ÓRGÃO SUPERIOR'].info() #Columna codigo y nombre\n",
    "\n",
    "df_llena['NOME ÓRGÃO'] = df_llena.groupby('CÓDIGO ÓRGÃO')['NOME ÓRGÃO'].transform(lambda x: x.fillna(method='ffill'))\n",
    "df_llena['NOME ÓRGÃO'].info() #Columna codigo y nombre\n",
    "\n",
    "df_llena['CÓDIGO UNIDADE GESTORA'] = df_llena.groupby('NOME UNIDADE GESTORA')['CÓDIGO UNIDADE GESTORA'].transform(lambda x: x.fillna(method='ffill'))\n",
    "df_llena['CÓDIGO UNIDADE GESTORA'] #Columna codigo y nombre"
   ]
  },
  {
   "cell_type": "code",
   "execution_count": 11,
   "metadata": {},
   "outputs": [
    {
     "data": {
      "text/html": [
       "<div>\n",
       "<style scoped>\n",
       "    .dataframe tbody tr th:only-of-type {\n",
       "        vertical-align: middle;\n",
       "    }\n",
       "\n",
       "    .dataframe tbody tr th {\n",
       "        vertical-align: top;\n",
       "    }\n",
       "\n",
       "    .dataframe thead th {\n",
       "        text-align: right;\n",
       "    }\n",
       "</style>\n",
       "<table border=\"1\" class=\"dataframe\">\n",
       "  <thead>\n",
       "    <tr style=\"text-align: right;\">\n",
       "      <th></th>\n",
       "      <th>CÓDIGO ÓRGÃO SUPERIOR</th>\n",
       "      <th>NOME ÓRGÃO SUPERIOR</th>\n",
       "      <th>CÓDIGO ÓRGÃO</th>\n",
       "      <th>NOME ÓRGÃO</th>\n",
       "      <th>CÓDIGO UNIDADE GESTORA</th>\n",
       "      <th>NOME UNIDADE GESTORA</th>\n",
       "      <th>CATEGORIA ECONÔMICA</th>\n",
       "      <th>ORIGEM RECEITA</th>\n",
       "      <th>ESPÉCIE RECEITA</th>\n",
       "      <th>DETALHAMENTO</th>\n",
       "      <th>VALOR PREVISTO ATUALIZADO</th>\n",
       "      <th>VALOR LANÇADO</th>\n",
       "      <th>VALOR REALIZADO</th>\n",
       "      <th>PERCENTUAL REALIZADO</th>\n",
       "      <th>DATA LANÇAMENTO</th>\n",
       "      <th>ANO EXERCÍCIO</th>\n",
       "    </tr>\n",
       "  </thead>\n",
       "  <tbody>\n",
       "    <tr>\n",
       "      <th>485324</th>\n",
       "      <td>26000.0</td>\n",
       "      <td>Ministério da Educação</td>\n",
       "      <td>26246.0</td>\n",
       "      <td>Universidade Federal de Santa Catarina</td>\n",
       "      <td>153163.0</td>\n",
       "      <td>UNIVERSIDADE FEDERAL DE SANTA CATARINA</td>\n",
       "      <td>Receitas Correntes</td>\n",
       "      <td>Receita Patrimonial</td>\n",
       "      <td>Valores Mobiliários</td>\n",
       "      <td>REMUNERACAO DE DEPOSITOS BANCARIOS-PRINCIPAL</td>\n",
       "      <td>0,00</td>\n",
       "      <td>0,00</td>\n",
       "      <td>23247,74</td>\n",
       "      <td>0,00</td>\n",
       "      <td>2018-02-08</td>\n",
       "      <td>2018</td>\n",
       "    </tr>\n",
       "    <tr>\n",
       "      <th>82613</th>\n",
       "      <td>26000.0</td>\n",
       "      <td>Ministério da Educação</td>\n",
       "      <td>26238.0</td>\n",
       "      <td>Universidade Federal de Minas Gerais</td>\n",
       "      <td>153062.0</td>\n",
       "      <td>UNIVERSIDADE FEDERAL DE MINAS GERAIS</td>\n",
       "      <td>Receitas Correntes</td>\n",
       "      <td>Receita Agropecuária</td>\n",
       "      <td>Receita Agropecuária</td>\n",
       "      <td>RECEITA AGROPECUARIA-PRINCIPAL</td>\n",
       "      <td>0,00</td>\n",
       "      <td>0,00</td>\n",
       "      <td>940,00</td>\n",
       "      <td>0,00</td>\n",
       "      <td>2016-08-11</td>\n",
       "      <td>2016</td>\n",
       "    </tr>\n",
       "    <tr>\n",
       "      <th>132183</th>\n",
       "      <td>26000.0</td>\n",
       "      <td>Ministério da Educação</td>\n",
       "      <td>26231.0</td>\n",
       "      <td>Universidade Federal de Alagoas</td>\n",
       "      <td>153037.0</td>\n",
       "      <td>UNIVERSIDADE FEDERAL DE ALAGOAS</td>\n",
       "      <td>Receitas Correntes</td>\n",
       "      <td>Receita Patrimonial</td>\n",
       "      <td>Exploração do patrimônio imobiliário do Estad</td>\n",
       "      <td>ALUGUEIS E ARRENDAMENTOS-PRINCIPAL</td>\n",
       "      <td>0,00</td>\n",
       "      <td>0,00</td>\n",
       "      <td>3557,54</td>\n",
       "      <td>0,00</td>\n",
       "      <td>2016-01-28</td>\n",
       "      <td>2016</td>\n",
       "    </tr>\n",
       "    <tr>\n",
       "      <th>533960</th>\n",
       "      <td>39000.0</td>\n",
       "      <td>Ministério da Infraestrutura</td>\n",
       "      <td>39252.0</td>\n",
       "      <td>Departamento Nacional de Infraestrutura de Tra...</td>\n",
       "      <td>393003.0</td>\n",
       "      <td>DEPART.NAC.INFRA ESTRUTURA TRANSPORTES.</td>\n",
       "      <td>Receitas de Capital</td>\n",
       "      <td>Alienação de Bens</td>\n",
       "      <td>Alienação de bens móveis</td>\n",
       "      <td>ALIENACAO DE BENS MOVEIS E SEMOVENTES-PRINC.</td>\n",
       "      <td>0,00</td>\n",
       "      <td>0,00</td>\n",
       "      <td>95,00</td>\n",
       "      <td>0,00</td>\n",
       "      <td>2018-07-10</td>\n",
       "      <td>2018</td>\n",
       "    </tr>\n",
       "    <tr>\n",
       "      <th>902641</th>\n",
       "      <td>24000.0</td>\n",
       "      <td>Ministério da Ciência, Tecnologia, Inovações</td>\n",
       "      <td>20301.0</td>\n",
       "      <td>Comissão Nacional de Energia Nuclear</td>\n",
       "      <td>113209.0</td>\n",
       "      <td>CNEN-ORCAMENTO E FINANCAS</td>\n",
       "      <td>Receitas Correntes</td>\n",
       "      <td>Impostos, Taxas e Contribuições de Melhoria</td>\n",
       "      <td>Taxas</td>\n",
       "      <td>TAXAS INSPECAO,CONTROLE E FISCALIZACAO-PRINC.</td>\n",
       "      <td>0,00</td>\n",
       "      <td>0,00</td>\n",
       "      <td>30833,67</td>\n",
       "      <td>0,00</td>\n",
       "      <td>2021-02-09</td>\n",
       "      <td>2021</td>\n",
       "    </tr>\n",
       "  </tbody>\n",
       "</table>\n",
       "</div>"
      ],
      "text/plain": [
       "        CÓDIGO ÓRGÃO SUPERIOR                            NOME ÓRGÃO SUPERIOR  \\\n",
       "485324                26000.0                         Ministério da Educação   \n",
       "82613                 26000.0                         Ministério da Educação   \n",
       "132183                26000.0                         Ministério da Educação   \n",
       "533960                39000.0                   Ministério da Infraestrutura   \n",
       "902641                24000.0  Ministério da Ciência, Tecnologia, Inovações    \n",
       "\n",
       "        CÓDIGO ÓRGÃO                                         NOME ÓRGÃO  \\\n",
       "485324       26246.0             Universidade Federal de Santa Catarina   \n",
       "82613        26238.0               Universidade Federal de Minas Gerais   \n",
       "132183       26231.0                    Universidade Federal de Alagoas   \n",
       "533960       39252.0  Departamento Nacional de Infraestrutura de Tra...   \n",
       "902641       20301.0               Comissão Nacional de Energia Nuclear   \n",
       "\n",
       "        CÓDIGO UNIDADE GESTORA                     NOME UNIDADE GESTORA  \\\n",
       "485324                153163.0   UNIVERSIDADE FEDERAL DE SANTA CATARINA   \n",
       "82613                 153062.0     UNIVERSIDADE FEDERAL DE MINAS GERAIS   \n",
       "132183                153037.0          UNIVERSIDADE FEDERAL DE ALAGOAS   \n",
       "533960                393003.0  DEPART.NAC.INFRA ESTRUTURA TRANSPORTES.   \n",
       "902641                113209.0                CNEN-ORCAMENTO E FINANCAS   \n",
       "\n",
       "        CATEGORIA ECONÔMICA                               ORIGEM RECEITA  \\\n",
       "485324   Receitas Correntes                          Receita Patrimonial   \n",
       "82613    Receitas Correntes                         Receita Agropecuária   \n",
       "132183   Receitas Correntes                          Receita Patrimonial   \n",
       "533960  Receitas de Capital                            Alienação de Bens   \n",
       "902641   Receitas Correntes  Impostos, Taxas e Contribuições de Melhoria   \n",
       "\n",
       "                                      ESPÉCIE RECEITA  \\\n",
       "485324                            Valores Mobiliários   \n",
       "82613                            Receita Agropecuária   \n",
       "132183  Exploração do patrimônio imobiliário do Estad   \n",
       "533960                       Alienação de bens móveis   \n",
       "902641                                          Taxas   \n",
       "\n",
       "                                         DETALHAMENTO  \\\n",
       "485324   REMUNERACAO DE DEPOSITOS BANCARIOS-PRINCIPAL   \n",
       "82613                  RECEITA AGROPECUARIA-PRINCIPAL   \n",
       "132183             ALUGUEIS E ARRENDAMENTOS-PRINCIPAL   \n",
       "533960   ALIENACAO DE BENS MOVEIS E SEMOVENTES-PRINC.   \n",
       "902641  TAXAS INSPECAO,CONTROLE E FISCALIZACAO-PRINC.   \n",
       "\n",
       "       VALOR PREVISTO ATUALIZADO VALOR LANÇADO VALOR REALIZADO  \\\n",
       "485324                      0,00          0,00        23247,74   \n",
       "82613                       0,00          0,00          940,00   \n",
       "132183                      0,00          0,00         3557,54   \n",
       "533960                      0,00          0,00           95,00   \n",
       "902641                      0,00          0,00        30833,67   \n",
       "\n",
       "       PERCENTUAL REALIZADO DATA LANÇAMENTO  ANO EXERCÍCIO  \n",
       "485324                 0,00      2018-02-08           2018  \n",
       "82613                  0,00      2016-08-11           2016  \n",
       "132183                 0,00      2016-01-28           2016  \n",
       "533960                 0,00      2018-07-10           2018  \n",
       "902641                 0,00      2021-02-09           2021  "
      ]
     },
     "execution_count": 11,
     "metadata": {},
     "output_type": "execute_result"
    }
   ],
   "source": [
    "df_llena.sample(5)"
   ]
  },
  {
   "cell_type": "code",
   "execution_count": 12,
   "metadata": {},
   "outputs": [],
   "source": [
    "df_llena['PERCENTUAL REALIZADO'] = df_llena['PERCENTUAL REALIZADO'].str.replace(',', '.')\n",
    "df_llena[\"PERCENTUAL REALIZADO\"] = df_llena[\"PERCENTUAL REALIZADO\"].astype(float) ### convierto esta columna a float"
   ]
  },
  {
   "cell_type": "code",
   "execution_count": 13,
   "metadata": {},
   "outputs": [
    {
     "data": {
      "text/plain": [
       "np.int64(172)"
      ]
     },
     "execution_count": 13,
     "metadata": {},
     "output_type": "execute_result"
    }
   ],
   "source": [
    "df_llena.duplicated().sum()"
   ]
  },
  {
   "cell_type": "code",
   "execution_count": 14,
   "metadata": {},
   "outputs": [],
   "source": [
    "df_llena.drop_duplicates(keep= \"first\", inplace=True) ### elimina los duplicados y se queda con el indice lista del ultimo"
   ]
  },
  {
   "cell_type": "code",
   "execution_count": 15,
   "metadata": {},
   "outputs": [
    {
     "data": {
      "text/plain": [
       "np.int64(0)"
      ]
     },
     "execution_count": 15,
     "metadata": {},
     "output_type": "execute_result"
    }
   ],
   "source": [
    "df_llena.duplicated().sum()"
   ]
  },
  {
   "cell_type": "code",
   "execution_count": 16,
   "metadata": {},
   "outputs": [],
   "source": [
    "df_llena['VALOR PREVISTO ATUALIZADO'] = df_llena['VALOR PREVISTO ATUALIZADO'].str.replace(',', '.')\n",
    "df_llena[\"VALOR PREVISTO ATUALIZADO\"] = df_llena[\"VALOR PREVISTO ATUALIZADO\"].astype(float)\n",
    "\n",
    "df_llena['VALOR LANÇADO'] = df_llena['VALOR LANÇADO'].str.replace(',', '.')\n",
    "df_llena[\"VALOR LANÇADO\"] = df_llena[\"VALOR LANÇADO\"].astype(float)\n",
    "\n",
    "df_llena['VALOR REALIZADO'] = df_llena['VALOR REALIZADO'].str.replace(',', '.')\n",
    "df_llena[\"VALOR REALIZADO\"] = df_llena[\"VALOR REALIZADO\"].astype(float)\n",
    "\n",
    "### convierto estas columnas a float"
   ]
  },
  {
   "cell_type": "code",
   "execution_count": 17,
   "metadata": {},
   "outputs": [
    {
     "data": {
      "text/plain": [
       "467953    0.0\n",
       "3435      NaN\n",
       "708002    0.0\n",
       "785652    0.0\n",
       "20119     0.0\n",
       "Name: VALOR PREVISTO ATUALIZADO, dtype: float64"
      ]
     },
     "execution_count": 17,
     "metadata": {},
     "output_type": "execute_result"
    }
   ],
   "source": [
    "df_llena['VALOR PREVISTO ATUALIZADO'].sample(5)"
   ]
  },
  {
   "cell_type": "code",
   "execution_count": 18,
   "metadata": {},
   "outputs": [
    {
     "data": {
      "text/plain": [
       "np.int64(0)"
      ]
     },
     "execution_count": 18,
     "metadata": {},
     "output_type": "execute_result"
    }
   ],
   "source": [
    "df_llena.duplicated().sum()"
   ]
  },
  {
   "cell_type": "code",
   "execution_count": 19,
   "metadata": {},
   "outputs": [
    {
     "data": {
      "text/html": [
       "<div>\n",
       "<style scoped>\n",
       "    .dataframe tbody tr th:only-of-type {\n",
       "        vertical-align: middle;\n",
       "    }\n",
       "\n",
       "    .dataframe tbody tr th {\n",
       "        vertical-align: top;\n",
       "    }\n",
       "\n",
       "    .dataframe thead th {\n",
       "        text-align: right;\n",
       "    }\n",
       "</style>\n",
       "<table border=\"1\" class=\"dataframe\">\n",
       "  <thead>\n",
       "    <tr style=\"text-align: right;\">\n",
       "      <th></th>\n",
       "      <th>CÓDIGO ÓRGÃO SUPERIOR</th>\n",
       "      <th>NOME ÓRGÃO SUPERIOR</th>\n",
       "      <th>CÓDIGO ÓRGÃO</th>\n",
       "      <th>NOME ÓRGÃO</th>\n",
       "      <th>CÓDIGO UNIDADE GESTORA</th>\n",
       "      <th>NOME UNIDADE GESTORA</th>\n",
       "      <th>CATEGORIA ECONÔMICA</th>\n",
       "      <th>ORIGEM RECEITA</th>\n",
       "      <th>ESPÉCIE RECEITA</th>\n",
       "      <th>DETALHAMENTO</th>\n",
       "      <th>VALOR PREVISTO ATUALIZADO</th>\n",
       "      <th>VALOR LANÇADO</th>\n",
       "      <th>VALOR REALIZADO</th>\n",
       "      <th>PERCENTUAL REALIZADO</th>\n",
       "      <th>DATA LANÇAMENTO</th>\n",
       "      <th>ANO EXERCÍCIO</th>\n",
       "    </tr>\n",
       "  </thead>\n",
       "  <tbody>\n",
       "  </tbody>\n",
       "</table>\n",
       "</div>"
      ],
      "text/plain": [
       "Empty DataFrame\n",
       "Columns: [CÓDIGO ÓRGÃO SUPERIOR, NOME ÓRGÃO SUPERIOR, CÓDIGO ÓRGÃO, NOME ÓRGÃO, CÓDIGO UNIDADE GESTORA, NOME UNIDADE GESTORA, CATEGORIA ECONÔMICA, ORIGEM RECEITA, ESPÉCIE RECEITA, DETALHAMENTO, VALOR PREVISTO ATUALIZADO, VALOR LANÇADO, VALOR REALIZADO, PERCENTUAL REALIZADO, DATA LANÇAMENTO, ANO EXERCÍCIO]\n",
       "Index: []"
      ]
     },
     "execution_count": 19,
     "metadata": {},
     "output_type": "execute_result"
    }
   ],
   "source": [
    "df_llena[df_llena.duplicated(keep=False)]"
   ]
  },
  {
   "cell_type": "code",
   "execution_count": 20,
   "metadata": {},
   "outputs": [
    {
     "name": "stdout",
     "output_type": "stream",
     "text": [
      "<class 'pandas.core.frame.DataFrame'>\n",
      "Index: 1026127 entries, 0 to 1026298\n",
      "Data columns (total 16 columns):\n",
      " #   Column                     Non-Null Count    Dtype         \n",
      "---  ------                     --------------    -----         \n",
      " 0   CÓDIGO ÓRGÃO SUPERIOR      995768 non-null   float64       \n",
      " 1   NOME ÓRGÃO SUPERIOR        995749 non-null   object        \n",
      " 2   CÓDIGO ÓRGÃO               1001010 non-null  float64       \n",
      " 3   NOME ÓRGÃO                 1000992 non-null  object        \n",
      " 4   CÓDIGO UNIDADE GESTORA     1006636 non-null  float64       \n",
      " 5   NOME UNIDADE GESTORA       1006648 non-null  object        \n",
      " 6   CATEGORIA ECONÔMICA        1007149 non-null  object        \n",
      " 7   ORIGEM RECEITA             987710 non-null   object        \n",
      " 8   ESPÉCIE RECEITA            994200 non-null   object        \n",
      " 9   DETALHAMENTO               996791 non-null   object        \n",
      " 10  VALOR PREVISTO ATUALIZADO  974812 non-null   float64       \n",
      " 11  VALOR LANÇADO              999708 non-null   float64       \n",
      " 12  VALOR REALIZADO            986708 non-null   float64       \n",
      " 13  PERCENTUAL REALIZADO       1001993 non-null  float64       \n",
      " 14  DATA LANÇAMENTO            1002467 non-null  datetime64[ns]\n",
      " 15  ANO EXERCÍCIO              1026127 non-null  int64         \n",
      "dtypes: datetime64[ns](1), float64(7), int64(1), object(7)\n",
      "memory usage: 133.1+ MB\n"
     ]
    }
   ],
   "source": [
    "df_llena.info()"
   ]
  },
  {
   "cell_type": "code",
   "execution_count": 21,
   "metadata": {},
   "outputs": [
    {
     "data": {
      "text/plain": [
       "CATEGORIA ECONÔMICA\n",
       "Receitas Correntes                           961360\n",
       "Receitas de Capital                           29523\n",
       "Receitas Correntes - intra-orçamentárias      15924\n",
       "Sem informação                                  252\n",
       "Receitas de Capital - intra-orçamentárias        90\n",
       "Name: count, dtype: int64"
      ]
     },
     "execution_count": 21,
     "metadata": {},
     "output_type": "execute_result"
    }
   ],
   "source": [
    "df_llena['CATEGORIA ECONÔMICA'].value_counts()"
   ]
  },
  {
   "cell_type": "code",
   "execution_count": 22,
   "metadata": {},
   "outputs": [
    {
     "data": {
      "text/plain": [
       "np.int64(18978)"
      ]
     },
     "execution_count": 22,
     "metadata": {},
     "output_type": "execute_result"
    }
   ],
   "source": [
    "df_llena['CATEGORIA ECONÔMICA'].isna().sum()"
   ]
  },
  {
   "cell_type": "code",
   "execution_count": 23,
   "metadata": {},
   "outputs": [],
   "source": [
    "df_llena['CATEGORIA ECONÔMICA'] = df_llena['CATEGORIA ECONÔMICA'].fillna('Sem informação')\n"
   ]
  },
  {
   "cell_type": "code",
   "execution_count": 24,
   "metadata": {},
   "outputs": [],
   "source": [
    "df_llena['ORIGEM RECEITA'] = df_llena['ORIGEM RECEITA'].fillna('Sem informação')\n",
    "###"
   ]
  },
  {
   "cell_type": "code",
   "execution_count": 44,
   "metadata": {},
   "outputs": [],
   "source": [
    "df_llena['ESPÉCIE RECEITA'] = df_llena['ESPÉCIE RECEITA'].fillna('Sem informação')"
   ]
  },
  {
   "cell_type": "code",
   "execution_count": 60,
   "metadata": {},
   "outputs": [],
   "source": [
    "df_llena['DETALHAMENTO'] = df_llena['DETALHAMENTO'].fillna('Sem informação')"
   ]
  },
  {
   "cell_type": "markdown",
   "metadata": {},
   "source": [
    "***Exploración***"
   ]
  },
  {
   "cell_type": "code",
   "execution_count": 61,
   "metadata": {},
   "outputs": [
    {
     "data": {
      "text/plain": [
       "array(['Receitas Correntes', 'Receitas de Capital', 'Sem informação',\n",
       "       'Receitas Correntes - intra-orçamentárias',\n",
       "       'Receitas de Capital - intra-orçamentárias'], dtype=object)"
      ]
     },
     "execution_count": 61,
     "metadata": {},
     "output_type": "execute_result"
    }
   ],
   "source": [
    "df_llena['CATEGORIA ECONÔMICA'].unique()"
   ]
  },
  {
   "cell_type": "code",
   "execution_count": 62,
   "metadata": {},
   "outputs": [
    {
     "data": {
      "text/plain": [
       "count    1.001993e+06\n",
       "mean     8.220896e+01\n",
       "std      7.234290e+04\n",
       "min     -1.145520e+05\n",
       "25%      0.000000e+00\n",
       "50%      0.000000e+00\n",
       "75%      0.000000e+00\n",
       "max      7.236377e+07\n",
       "Name: PERCENTUAL REALIZADO, dtype: float64"
      ]
     },
     "execution_count": 62,
     "metadata": {},
     "output_type": "execute_result"
    }
   ],
   "source": [
    "df_llena['PERCENTUAL REALIZADO'].describe().T"
   ]
  },
  {
   "cell_type": "code",
   "execution_count": 63,
   "metadata": {},
   "outputs": [
    {
     "data": {
      "text/html": [
       "<div>\n",
       "<style scoped>\n",
       "    .dataframe tbody tr th:only-of-type {\n",
       "        vertical-align: middle;\n",
       "    }\n",
       "\n",
       "    .dataframe tbody tr th {\n",
       "        vertical-align: top;\n",
       "    }\n",
       "\n",
       "    .dataframe thead th {\n",
       "        text-align: right;\n",
       "    }\n",
       "</style>\n",
       "<table border=\"1\" class=\"dataframe\">\n",
       "  <thead>\n",
       "    <tr style=\"text-align: right;\">\n",
       "      <th></th>\n",
       "      <th>VALOR PREVISTO ATUALIZADO</th>\n",
       "    </tr>\n",
       "    <tr>\n",
       "      <th>CATEGORIA ECONÔMICA</th>\n",
       "      <th></th>\n",
       "    </tr>\n",
       "  </thead>\n",
       "  <tbody>\n",
       "    <tr>\n",
       "      <th>Receitas Correntes</th>\n",
       "      <td>13144753876517.01</td>\n",
       "    </tr>\n",
       "    <tr>\n",
       "      <th>Receitas Correntes - intra-orçamentárias</th>\n",
       "      <td>269427807626.00</td>\n",
       "    </tr>\n",
       "    <tr>\n",
       "      <th>Receitas de Capital</th>\n",
       "      <td>13499860476962.40</td>\n",
       "    </tr>\n",
       "    <tr>\n",
       "      <th>Receitas de Capital - intra-orçamentárias</th>\n",
       "      <td>10808411537.00</td>\n",
       "    </tr>\n",
       "    <tr>\n",
       "      <th>Sem informação</th>\n",
       "      <td>1016379861124.19</td>\n",
       "    </tr>\n",
       "  </tbody>\n",
       "</table>\n",
       "</div>"
      ],
      "text/plain": [
       "                                          VALOR PREVISTO ATUALIZADO\n",
       "CATEGORIA ECONÔMICA                                                \n",
       "Receitas Correntes                                13144753876517.01\n",
       "Receitas Correntes - intra-orçamentárias            269427807626.00\n",
       "Receitas de Capital                               13499860476962.40\n",
       "Receitas de Capital - intra-orçamentárias            10808411537.00\n",
       "Sem informação                                     1016379861124.19"
      ]
     },
     "execution_count": 63,
     "metadata": {},
     "output_type": "execute_result"
    }
   ],
   "source": [
    "df_prueba1 = df_llena.groupby('CATEGORIA ECONÔMICA')[['VALOR PREVISTO ATUALIZADO']].sum()\n",
    "\n",
    "df_prueba1['VALOR PREVISTO ATUALIZADO'] = df_prueba1['VALOR PREVISTO ATUALIZADO'].apply(lambda x: '{:.2f}'.format(x))\n",
    "\n",
    "df_prueba1"
   ]
  },
  {
   "cell_type": "code",
   "execution_count": 64,
   "metadata": {},
   "outputs": [
    {
     "data": {
      "text/html": [
       "<div>\n",
       "<style scoped>\n",
       "    .dataframe tbody tr th:only-of-type {\n",
       "        vertical-align: middle;\n",
       "    }\n",
       "\n",
       "    .dataframe tbody tr th {\n",
       "        vertical-align: top;\n",
       "    }\n",
       "\n",
       "    .dataframe thead th {\n",
       "        text-align: right;\n",
       "    }\n",
       "</style>\n",
       "<table border=\"1\" class=\"dataframe\">\n",
       "  <thead>\n",
       "    <tr style=\"text-align: right;\">\n",
       "      <th></th>\n",
       "      <th>VALOR PREVISTO ATUALIZADO</th>\n",
       "      <th>VALOR LANÇADO</th>\n",
       "      <th>VALOR REALIZADO</th>\n",
       "    </tr>\n",
       "    <tr>\n",
       "      <th>CATEGORIA ECONÔMICA</th>\n",
       "      <th></th>\n",
       "      <th></th>\n",
       "      <th></th>\n",
       "    </tr>\n",
       "  </thead>\n",
       "  <tbody>\n",
       "    <tr>\n",
       "      <th>Receitas Correntes</th>\n",
       "      <td>1.314475e+13</td>\n",
       "      <td>5.096879e+12</td>\n",
       "      <td>1.202508e+13</td>\n",
       "    </tr>\n",
       "    <tr>\n",
       "      <th>Receitas Correntes - intra-orçamentárias</th>\n",
       "      <td>2.694278e+11</td>\n",
       "      <td>0.000000e+00</td>\n",
       "      <td>2.805787e+11</td>\n",
       "    </tr>\n",
       "    <tr>\n",
       "      <th>Receitas de Capital</th>\n",
       "      <td>1.349986e+13</td>\n",
       "      <td>3.620769e+06</td>\n",
       "      <td>1.200415e+13</td>\n",
       "    </tr>\n",
       "    <tr>\n",
       "      <th>Receitas de Capital - intra-orçamentárias</th>\n",
       "      <td>1.080841e+10</td>\n",
       "      <td>0.000000e+00</td>\n",
       "      <td>2.141127e+10</td>\n",
       "    </tr>\n",
       "    <tr>\n",
       "      <th>Sem informação</th>\n",
       "      <td>1.016380e+12</td>\n",
       "      <td>1.792732e+11</td>\n",
       "      <td>3.271665e+11</td>\n",
       "    </tr>\n",
       "  </tbody>\n",
       "</table>\n",
       "</div>"
      ],
      "text/plain": [
       "                                           VALOR PREVISTO ATUALIZADO  \\\n",
       "CATEGORIA ECONÔMICA                                                    \n",
       "Receitas Correntes                                      1.314475e+13   \n",
       "Receitas Correntes - intra-orçamentárias                2.694278e+11   \n",
       "Receitas de Capital                                     1.349986e+13   \n",
       "Receitas de Capital - intra-orçamentárias               1.080841e+10   \n",
       "Sem informação                                          1.016380e+12   \n",
       "\n",
       "                                           VALOR LANÇADO  VALOR REALIZADO  \n",
       "CATEGORIA ECONÔMICA                                                        \n",
       "Receitas Correntes                          5.096879e+12     1.202508e+13  \n",
       "Receitas Correntes - intra-orçamentárias    0.000000e+00     2.805787e+11  \n",
       "Receitas de Capital                         3.620769e+06     1.200415e+13  \n",
       "Receitas de Capital - intra-orçamentárias   0.000000e+00     2.141127e+10  \n",
       "Sem informação                              1.792732e+11     3.271665e+11  "
      ]
     },
     "execution_count": 64,
     "metadata": {},
     "output_type": "execute_result"
    }
   ],
   "source": [
    "df_prueba = df_llena.groupby('CATEGORIA ECONÔMICA')[['VALOR PREVISTO ATUALIZADO', 'VALOR LANÇADO', 'VALOR REALIZADO']].sum()\n",
    "df_prueba\n"
   ]
  },
  {
   "cell_type": "markdown",
   "metadata": {},
   "source": [
    "*** data frame corrupción ***\n",
    "* Aquí tenemos el funcionamiento de latinoamérica, distribuido en 3 momentos:\n",
    "- Valor Previsto Actualizado es lo que el gobierno prevee como ingreso\n",
    "- Valor Lanzado es lo que se presenta en los libros, lo que se contabiliza como esperado.\n",
    "- Valor Realizado fue lo que realmente se consiguió como ingresos.\n",
    "\n",
    "* Esto quiere decir que el gobierno apuntaba a una recolección de ingresos alta, sin embargo hizo una declaración baja sobre lo esperado (incluso blaqueó algunas cifras) y se consiguió que la realidad de ingresos fuese cercana a esa primera estimación.\n",
    "\n",
    "* Valor Realizado - valor Lanzado es la corrupción."
   ]
  },
  {
   "cell_type": "code",
   "execution_count": 65,
   "metadata": {},
   "outputs": [
    {
     "data": {
      "text/html": [
       "<div>\n",
       "<style scoped>\n",
       "    .dataframe tbody tr th:only-of-type {\n",
       "        vertical-align: middle;\n",
       "    }\n",
       "\n",
       "    .dataframe tbody tr th {\n",
       "        vertical-align: top;\n",
       "    }\n",
       "\n",
       "    .dataframe thead th {\n",
       "        text-align: right;\n",
       "    }\n",
       "</style>\n",
       "<table border=\"1\" class=\"dataframe\">\n",
       "  <thead>\n",
       "    <tr style=\"text-align: right;\">\n",
       "      <th></th>\n",
       "      <th>VALOR LANÇADO</th>\n",
       "    </tr>\n",
       "    <tr>\n",
       "      <th>CATEGORIA ECONÔMICA</th>\n",
       "      <th></th>\n",
       "    </tr>\n",
       "  </thead>\n",
       "  <tbody>\n",
       "    <tr>\n",
       "      <th>Receitas Correntes</th>\n",
       "      <td>5096878731189.07</td>\n",
       "    </tr>\n",
       "    <tr>\n",
       "      <th>Receitas Correntes - intra-orçamentárias</th>\n",
       "      <td>0.00</td>\n",
       "    </tr>\n",
       "    <tr>\n",
       "      <th>Receitas de Capital</th>\n",
       "      <td>3620769.28</td>\n",
       "    </tr>\n",
       "    <tr>\n",
       "      <th>Receitas de Capital - intra-orçamentárias</th>\n",
       "      <td>0.00</td>\n",
       "    </tr>\n",
       "    <tr>\n",
       "      <th>Sem informação</th>\n",
       "      <td>179273190887.94</td>\n",
       "    </tr>\n",
       "  </tbody>\n",
       "</table>\n",
       "</div>"
      ],
      "text/plain": [
       "                                              VALOR LANÇADO\n",
       "CATEGORIA ECONÔMICA                                        \n",
       "Receitas Correntes                         5096878731189.07\n",
       "Receitas Correntes - intra-orçamentárias               0.00\n",
       "Receitas de Capital                              3620769.28\n",
       "Receitas de Capital - intra-orçamentárias              0.00\n",
       "Sem informação                              179273190887.94"
      ]
     },
     "execution_count": 65,
     "metadata": {},
     "output_type": "execute_result"
    }
   ],
   "source": [
    "df_prueba2 = df_llena.groupby('CATEGORIA ECONÔMICA')[['VALOR LANÇADO']].sum()\n",
    "\n",
    "df_prueba2['VALOR LANÇADO'] = df_prueba2['VALOR LANÇADO'].apply(lambda x: '{:.2f}'.format(x))\n",
    "\n",
    "df_prueba2"
   ]
  },
  {
   "cell_type": "code",
   "execution_count": 66,
   "metadata": {},
   "outputs": [
    {
     "data": {
      "text/html": [
       "<div>\n",
       "<style scoped>\n",
       "    .dataframe tbody tr th:only-of-type {\n",
       "        vertical-align: middle;\n",
       "    }\n",
       "\n",
       "    .dataframe tbody tr th {\n",
       "        vertical-align: top;\n",
       "    }\n",
       "\n",
       "    .dataframe thead th {\n",
       "        text-align: right;\n",
       "    }\n",
       "</style>\n",
       "<table border=\"1\" class=\"dataframe\">\n",
       "  <thead>\n",
       "    <tr style=\"text-align: right;\">\n",
       "      <th></th>\n",
       "      <th>VALOR REALIZADO</th>\n",
       "    </tr>\n",
       "    <tr>\n",
       "      <th>CATEGORIA ECONÔMICA</th>\n",
       "      <th></th>\n",
       "    </tr>\n",
       "  </thead>\n",
       "  <tbody>\n",
       "    <tr>\n",
       "      <th>Receitas Correntes</th>\n",
       "      <td>12025075713610.35</td>\n",
       "    </tr>\n",
       "    <tr>\n",
       "      <th>Receitas Correntes - intra-orçamentárias</th>\n",
       "      <td>280578708925.83</td>\n",
       "    </tr>\n",
       "    <tr>\n",
       "      <th>Receitas de Capital</th>\n",
       "      <td>12004146145893.74</td>\n",
       "    </tr>\n",
       "    <tr>\n",
       "      <th>Receitas de Capital - intra-orçamentárias</th>\n",
       "      <td>21411268074.28</td>\n",
       "    </tr>\n",
       "    <tr>\n",
       "      <th>Sem informação</th>\n",
       "      <td>327166482053.52</td>\n",
       "    </tr>\n",
       "  </tbody>\n",
       "</table>\n",
       "</div>"
      ],
      "text/plain": [
       "                                             VALOR REALIZADO\n",
       "CATEGORIA ECONÔMICA                                         \n",
       "Receitas Correntes                         12025075713610.35\n",
       "Receitas Correntes - intra-orçamentárias     280578708925.83\n",
       "Receitas de Capital                        12004146145893.74\n",
       "Receitas de Capital - intra-orçamentárias     21411268074.28\n",
       "Sem informação                               327166482053.52"
      ]
     },
     "execution_count": 66,
     "metadata": {},
     "output_type": "execute_result"
    }
   ],
   "source": [
    "df_prueba3 = df_llena.groupby('CATEGORIA ECONÔMICA')[['VALOR REALIZADO']].sum()\n",
    "\n",
    "df_prueba3['VALOR REALIZADO'] = df_prueba3['VALOR REALIZADO'].apply(lambda x: '{:.2f}'.format(x))\n",
    "\n",
    "df_prueba3"
   ]
  },
  {
   "cell_type": "code",
   "execution_count": 67,
   "metadata": {},
   "outputs": [],
   "source": [
    "### diccionario funcional\n",
    "\n",
    "# nuevas_columnas = {i : i.lower() for i in df_2013.columns}\n",
    "# df_2013.rename(nuevas_columnas, inplace= True, axis = 1) \n",
    "\n",
    "# cambio_nombre_columnas = {\n",
    "#     'código órgão superior':'codigo_entidad',\n",
    "#     'nome órgão superior':'nombre_entidad',\n",
    "#     'código órgão':'codigo_especifica',\n",
    "#     'nome órgão':'nombre_entidad_especifica',\n",
    "#     'código unidade gestora':'codigo_unidad_gestora',\n",
    "#     'nome unidade gestora':'nombre_unidad_gestora',\n",
    "#     'categoria econômica':'clasificacion_ingresos',\n",
    "#     'origem receita':'fuente_ingreso',\n",
    "#     'espécie receita':'tipo_ingreso',\n",
    "#     'detalhamento':'detalle_ingreso',\n",
    "#     'valor previsto atualizado':'monto_previsto_actualizado',\n",
    "#     'valor lançado':'monto_lanzado',\n",
    "#     'valor realizado':'monto_recaudado',\n",
    "#     'percentual realizado':'porcentaje_recaudado',\n",
    "#     'data lançamento':'fecha_lanzamiento',\n",
    "#     'ano exercício':'anio_ejercicio'\n",
    "# }\n",
    "\n",
    "# df_2013.rename(columns = cambio_nombre_columnas,inplace= True)"
   ]
  },
  {
   "cell_type": "code",
   "execution_count": 68,
   "metadata": {},
   "outputs": [
    {
     "data": {
      "text/plain": [
       "CÓDIGO ÓRGÃO SUPERIOR        30359\n",
       "NOME ÓRGÃO SUPERIOR          30378\n",
       "CÓDIGO ÓRGÃO                 25117\n",
       "NOME ÓRGÃO                   25135\n",
       "CÓDIGO UNIDADE GESTORA       19491\n",
       "NOME UNIDADE GESTORA         19479\n",
       "CATEGORIA ECONÔMICA              0\n",
       "ORIGEM RECEITA                   0\n",
       "ESPÉCIE RECEITA                  0\n",
       "DETALHAMENTO                     0\n",
       "VALOR PREVISTO ATUALIZADO    51315\n",
       "VALOR LANÇADO                26419\n",
       "VALOR REALIZADO              39419\n",
       "PERCENTUAL REALIZADO         24134\n",
       "DATA LANÇAMENTO              23660\n",
       "ANO EXERCÍCIO                    0\n",
       "dtype: int64"
      ]
     },
     "execution_count": 68,
     "metadata": {},
     "output_type": "execute_result"
    }
   ],
   "source": [
    "df_llena.isnull().sum()"
   ]
  },
  {
   "cell_type": "code",
   "execution_count": 69,
   "metadata": {},
   "outputs": [
    {
     "data": {
      "text/plain": [
       "array(['Receitas Correntes', 'Receitas de Capital', 'Sem informação',\n",
       "       'Receitas Correntes - intra-orçamentárias',\n",
       "       'Receitas de Capital - intra-orçamentárias'], dtype=object)"
      ]
     },
     "execution_count": 69,
     "metadata": {},
     "output_type": "execute_result"
    }
   ],
   "source": [
    "df_llena['CATEGORIA ECONÔMICA'].unique()"
   ]
  },
  {
   "cell_type": "code",
   "execution_count": 70,
   "metadata": {},
   "outputs": [
    {
     "data": {
      "text/html": [
       "<div>\n",
       "<style scoped>\n",
       "    .dataframe tbody tr th:only-of-type {\n",
       "        vertical-align: middle;\n",
       "    }\n",
       "\n",
       "    .dataframe tbody tr th {\n",
       "        vertical-align: top;\n",
       "    }\n",
       "\n",
       "    .dataframe thead th {\n",
       "        text-align: right;\n",
       "    }\n",
       "</style>\n",
       "<table border=\"1\" class=\"dataframe\">\n",
       "  <thead>\n",
       "    <tr style=\"text-align: right;\">\n",
       "      <th></th>\n",
       "      <th>CÓDIGO ÓRGÃO SUPERIOR</th>\n",
       "      <th>CÓDIGO ÓRGÃO</th>\n",
       "      <th>CÓDIGO UNIDADE GESTORA</th>\n",
       "      <th>VALOR PREVISTO ATUALIZADO</th>\n",
       "      <th>VALOR LANÇADO</th>\n",
       "      <th>VALOR REALIZADO</th>\n",
       "      <th>PERCENTUAL REALIZADO</th>\n",
       "      <th>DATA LANÇAMENTO</th>\n",
       "      <th>ANO EXERCÍCIO</th>\n",
       "    </tr>\n",
       "  </thead>\n",
       "  <tbody>\n",
       "    <tr>\n",
       "      <th>count</th>\n",
       "      <td>995768.000000</td>\n",
       "      <td>1.001010e+06</td>\n",
       "      <td>1.006636e+06</td>\n",
       "      <td>9.748120e+05</td>\n",
       "      <td>9.997080e+05</td>\n",
       "      <td>9.867080e+05</td>\n",
       "      <td>1.001993e+06</td>\n",
       "      <td>1002467</td>\n",
       "      <td>1.026127e+06</td>\n",
       "    </tr>\n",
       "    <tr>\n",
       "      <th>mean</th>\n",
       "      <td>32053.762523</td>\n",
       "      <td>3.143850e+04</td>\n",
       "      <td>2.312371e+05</td>\n",
       "      <td>2.866320e+07</td>\n",
       "      <td>5.277697e+06</td>\n",
       "      <td>2.499055e+07</td>\n",
       "      <td>8.220896e+01</td>\n",
       "      <td>2018-09-20 04:04:29.177539328</td>\n",
       "      <td>2.018226e+03</td>\n",
       "    </tr>\n",
       "    <tr>\n",
       "      <th>min</th>\n",
       "      <td>20000.000000</td>\n",
       "      <td>2.010100e+04</td>\n",
       "      <td>1.100050e+05</td>\n",
       "      <td>-2.147737e+08</td>\n",
       "      <td>-1.483473e+11</td>\n",
       "      <td>-1.562859e+11</td>\n",
       "      <td>-1.145520e+05</td>\n",
       "      <td>2013-12-31 00:00:00</td>\n",
       "      <td>2.013000e+03</td>\n",
       "    </tr>\n",
       "    <tr>\n",
       "      <th>25%</th>\n",
       "      <td>25000.000000</td>\n",
       "      <td>2.520100e+04</td>\n",
       "      <td>1.540030e+05</td>\n",
       "      <td>0.000000e+00</td>\n",
       "      <td>0.000000e+00</td>\n",
       "      <td>2.609375e+02</td>\n",
       "      <td>0.000000e+00</td>\n",
       "      <td>2017-03-30 00:00:00</td>\n",
       "      <td>2.017000e+03</td>\n",
       "    </tr>\n",
       "    <tr>\n",
       "      <th>50%</th>\n",
       "      <td>26000.000000</td>\n",
       "      <td>2.629800e+04</td>\n",
       "      <td>1.700130e+05</td>\n",
       "      <td>0.000000e+00</td>\n",
       "      <td>0.000000e+00</td>\n",
       "      <td>3.028885e+03</td>\n",
       "      <td>0.000000e+00</td>\n",
       "      <td>2018-08-29 00:00:00</td>\n",
       "      <td>2.018000e+03</td>\n",
       "    </tr>\n",
       "    <tr>\n",
       "      <th>75%</th>\n",
       "      <td>39000.000000</td>\n",
       "      <td>3.600000e+04</td>\n",
       "      <td>2.500880e+05</td>\n",
       "      <td>0.000000e+00</td>\n",
       "      <td>0.000000e+00</td>\n",
       "      <td>4.095573e+04</td>\n",
       "      <td>0.000000e+00</td>\n",
       "      <td>2020-02-12 00:00:00</td>\n",
       "      <td>2.020000e+03</td>\n",
       "    </tr>\n",
       "    <tr>\n",
       "      <th>max</th>\n",
       "      <td>81000.000000</td>\n",
       "      <td>9.121400e+04</td>\n",
       "      <td>9.130010e+05</td>\n",
       "      <td>1.603522e+12</td>\n",
       "      <td>3.571607e+11</td>\n",
       "      <td>7.711177e+11</td>\n",
       "      <td>7.236377e+07</td>\n",
       "      <td>2021-12-03 00:00:00</td>\n",
       "      <td>2.021000e+03</td>\n",
       "    </tr>\n",
       "    <tr>\n",
       "      <th>std</th>\n",
       "      <td>10615.079694</td>\n",
       "      <td>1.038640e+04</td>\n",
       "      <td>1.441269e+05</td>\n",
       "      <td>3.479226e+09</td>\n",
       "      <td>8.171592e+08</td>\n",
       "      <td>1.418152e+09</td>\n",
       "      <td>7.234290e+04</td>\n",
       "      <td>NaN</td>\n",
       "      <td>1.737983e+00</td>\n",
       "    </tr>\n",
       "  </tbody>\n",
       "</table>\n",
       "</div>"
      ],
      "text/plain": [
       "       CÓDIGO ÓRGÃO SUPERIOR  CÓDIGO ÓRGÃO  CÓDIGO UNIDADE GESTORA  \\\n",
       "count          995768.000000  1.001010e+06            1.006636e+06   \n",
       "mean            32053.762523  3.143850e+04            2.312371e+05   \n",
       "min             20000.000000  2.010100e+04            1.100050e+05   \n",
       "25%             25000.000000  2.520100e+04            1.540030e+05   \n",
       "50%             26000.000000  2.629800e+04            1.700130e+05   \n",
       "75%             39000.000000  3.600000e+04            2.500880e+05   \n",
       "max             81000.000000  9.121400e+04            9.130010e+05   \n",
       "std             10615.079694  1.038640e+04            1.441269e+05   \n",
       "\n",
       "       VALOR PREVISTO ATUALIZADO  VALOR LANÇADO  VALOR REALIZADO  \\\n",
       "count               9.748120e+05   9.997080e+05     9.867080e+05   \n",
       "mean                2.866320e+07   5.277697e+06     2.499055e+07   \n",
       "min                -2.147737e+08  -1.483473e+11    -1.562859e+11   \n",
       "25%                 0.000000e+00   0.000000e+00     2.609375e+02   \n",
       "50%                 0.000000e+00   0.000000e+00     3.028885e+03   \n",
       "75%                 0.000000e+00   0.000000e+00     4.095573e+04   \n",
       "max                 1.603522e+12   3.571607e+11     7.711177e+11   \n",
       "std                 3.479226e+09   8.171592e+08     1.418152e+09   \n",
       "\n",
       "       PERCENTUAL REALIZADO                DATA LANÇAMENTO  ANO EXERCÍCIO  \n",
       "count          1.001993e+06                        1002467   1.026127e+06  \n",
       "mean           8.220896e+01  2018-09-20 04:04:29.177539328   2.018226e+03  \n",
       "min           -1.145520e+05            2013-12-31 00:00:00   2.013000e+03  \n",
       "25%            0.000000e+00            2017-03-30 00:00:00   2.017000e+03  \n",
       "50%            0.000000e+00            2018-08-29 00:00:00   2.018000e+03  \n",
       "75%            0.000000e+00            2020-02-12 00:00:00   2.020000e+03  \n",
       "max            7.236377e+07            2021-12-03 00:00:00   2.021000e+03  \n",
       "std            7.234290e+04                            NaN   1.737983e+00  "
      ]
     },
     "execution_count": 70,
     "metadata": {},
     "output_type": "execute_result"
    }
   ],
   "source": [
    "df_llena.describe()"
   ]
  },
  {
   "cell_type": "code",
   "execution_count": 71,
   "metadata": {},
   "outputs": [
    {
     "data": {
      "text/plain": [
       "CÓDIGO ÓRGÃO SUPERIOR               float64\n",
       "NOME ÓRGÃO SUPERIOR                  object\n",
       "CÓDIGO ÓRGÃO                        float64\n",
       "NOME ÓRGÃO                           object\n",
       "CÓDIGO UNIDADE GESTORA              float64\n",
       "NOME UNIDADE GESTORA                 object\n",
       "CATEGORIA ECONÔMICA                  object\n",
       "ORIGEM RECEITA                       object\n",
       "ESPÉCIE RECEITA                      object\n",
       "DETALHAMENTO                         object\n",
       "VALOR PREVISTO ATUALIZADO           float64\n",
       "VALOR LANÇADO                       float64\n",
       "VALOR REALIZADO                     float64\n",
       "PERCENTUAL REALIZADO                float64\n",
       "DATA LANÇAMENTO              datetime64[ns]\n",
       "ANO EXERCÍCIO                         int64\n",
       "dtype: object"
      ]
     },
     "execution_count": 71,
     "metadata": {},
     "output_type": "execute_result"
    }
   ],
   "source": [
    "df_llena.dtypes"
   ]
  },
  {
   "cell_type": "code",
   "execution_count": 72,
   "metadata": {},
   "outputs": [
    {
     "data": {
      "text/plain": [
       "np.int64(0)"
      ]
     },
     "execution_count": 72,
     "metadata": {},
     "output_type": "execute_result"
    }
   ],
   "source": [
    "df_llena['ESPÉCIE RECEITA'].isna().sum()"
   ]
  },
  {
   "cell_type": "markdown",
   "metadata": {},
   "source": [
    "*** Hemos tomado los datos nulos y los hemos sumado a la categoría de Sem información. De esta forma no asumimos la categoría ya que no tenemos la certeza de donde puede venir (varible categoría económica/variable origem receita/)\n",
    "\n",
    "*** Hemos imputado valores de las 6 primeras columnas (códigos-nombres) utilizando la forma de rellenar esa información haciendo uso de la relación que llevan coódigo-nombre. \n",
    "\n",
    "*** En las primeras 6 columnas pudieramos contemplar la posibilidad de abrir un nuevo valor (Sem informacion) debido a que aun habiendo imputado, quedan algunos datos nulos."
   ]
  },
  {
   "cell_type": "code",
   "execution_count": 73,
   "metadata": {},
   "outputs": [
    {
     "data": {
      "text/plain": [
       "666414                            Receita Patrimonial\n",
       "284973                            Receita de Serviços\n",
       "71059                       Outras Receitas Correntes\n",
       "324093                           Receita Agropecuária\n",
       "77558     Impostos, Taxas e Contribuições de Melhoria\n",
       "Name: ORIGEM RECEITA, dtype: object"
      ]
     },
     "execution_count": 73,
     "metadata": {},
     "output_type": "execute_result"
    }
   ],
   "source": [
    "df_llena['ORIGEM RECEITA'].sample(5)"
   ]
  },
  {
   "cell_type": "code",
   "execution_count": 74,
   "metadata": {},
   "outputs": [
    {
     "data": {
      "text/plain": [
       "array(['Outras Receitas Correntes', 'Receita de Serviços',\n",
       "       'Transferências de Capital', 'Alienação de Bens',\n",
       "       'Receita Agropecuária', 'Transferências Correntes',\n",
       "       'Receita Patrimonial', 'Operações de Crédito',\n",
       "       'Impostos, Taxas e Contribuições de Melhoria', 'Sem informação',\n",
       "       'Amortizações de Empréstimos', 'Contribuições',\n",
       "       'Receita Industrial', 'Outras Receitas de Capital',\n",
       "       'Receitas Correntes - a classificar'], dtype=object)"
      ]
     },
     "execution_count": 74,
     "metadata": {},
     "output_type": "execute_result"
    }
   ],
   "source": [
    "df_llena['ORIGEM RECEITA'].unique()"
   ]
  },
  {
   "cell_type": "code",
   "execution_count": 75,
   "metadata": {},
   "outputs": [
    {
     "data": {
      "text/plain": [
       "np.int64(32172)"
      ]
     },
     "execution_count": 75,
     "metadata": {},
     "output_type": "execute_result"
    }
   ],
   "source": [
    "a = df_llena['ESPÉCIE RECEITA'] == 'Sem informação'\n",
    "a.sum()"
   ]
  },
  {
   "cell_type": "code",
   "execution_count": null,
   "metadata": {},
   "outputs": [],
   "source": []
  }
 ],
 "metadata": {
  "kernelspec": {
   "display_name": "Python 3",
   "language": "python",
   "name": "python3"
  },
  "language_info": {
   "codemirror_mode": {
    "name": "ipython",
    "version": 3
   },
   "file_extension": ".py",
   "mimetype": "text/x-python",
   "name": "python",
   "nbconvert_exporter": "python",
   "pygments_lexer": "ipython3",
   "version": "3.11.9"
  }
 },
 "nbformat": 4,
 "nbformat_minor": 2
}
